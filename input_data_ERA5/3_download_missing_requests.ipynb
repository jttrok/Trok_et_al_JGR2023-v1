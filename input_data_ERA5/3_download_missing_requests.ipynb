{
 "cells": [
  {
   "cell_type": "markdown",
   "id": "04eb6758-b344-4267-987b-53ec477c0e18",
   "metadata": {},
   "source": [
    "### Run this after all requests have finished processing (check status at https://cds.climate.copernicus.eu/)"
   ]
  },
  {
   "cell_type": "code",
   "execution_count": null,
   "id": "5ae6c457-d707-42c8-b1e4-deb03f482a4b",
   "metadata": {
    "scrolled": true,
    "tags": []
   },
   "outputs": [],
   "source": [
    "proj_dir=\"/path/to/main_project_folder/\" # edit this line\n",
    "\n",
    "import cdsapi \n",
    "import os\n",
    "import itertools\n",
    "import json\n",
    "import multiprocessing as mp\n",
    "import sys\n",
    "sys.path.append(proj_dir)\n",
    "from project_utils import parameters as param\n",
    "from project_utils import load_region\n",
    "from project_utils import prepare_inputs\n",
    "import importlib\n",
    "importlib.reload(param)\n",
    "importlib.reload(load_region)\n",
    "importlib.reload(prepare_inputs)\n",
    "\n",
    "region_list = ['northcentral_north_america', \n",
    "               'southcentral_north_america', \n",
    "               'southeastern_north_america', \n",
    "               'southwestern_europe', \n",
    "               'western_europe', \n",
    "               'central_europe', \n",
    "               'eastern_europe', \n",
    "               'northeastern_europe', \n",
    "               'northeastern_asia', \n",
    "               'southeastern_asia', \n",
    "               'northsouthern_south_america', \n",
    "               'southsouthern_south_america', \n",
    "               'southwestern_africa', \n",
    "               'southeastern_africa', \n",
    "               'southwestern_australia', \n",
    "               'southeastern_australia', \n",
    "               'west_texas',\n",
    "               'east_texas',\n",
    "              ]\n",
    "\n",
    "variables = [\"volumetric_soil_water_layer_1\", \n",
    "             \"2m_temperature\", \n",
    "             \"geopotential\"]\n",
    "\n",
    "var_abbrev = [\"swvl1\", \n",
    "              \"t2m\", \n",
    "              \"z\"]\n",
    "\n",
    "def download_if_complete(f_name):\n",
    "    new_client = cdsapi.Client(wait_until_complete=False, delete=False, quiet=True)\n",
    "    result = cdsapi.api.Result(new_client, {'request_id':request_id_dict[f_name]})\n",
    "    result.update()\n",
    "    reply = result.reply\n",
    "    if reply['state'] == 'completed':\n",
    "        if not os.path.exists(f_name):\n",
    "            result.download(f_name)\n",
    "            \n",
    "for region_str in region_list:\n",
    "    print(region_str)\n",
    "    for i, curr_var in enumerate(variables):\n",
    "        curr_var_abbrev = var_abbrev[i]\n",
    "        print(curr_var, curr_var_abbrev)\n",
    "\n",
    "        path_out = proj_dir+\"input_data_ERA5/\"+region_str+\"/hourly/\"+curr_var_abbrev+\"/\"\n",
    "\n",
    "        with open(path_out+region_str+'_'+curr_var_abbrev+'_missing.json', 'r') as fp:\n",
    "            global request_id_dict\n",
    "            request_id_dict = json.load(fp)\n",
    "\n",
    "        if len(request_id_dict.keys()):\n",
    "            with mp.Pool(len(request_id_dict.keys())) as p:\n",
    "                _ = p.map(download_if_complete, request_id_dict.keys()) \n",
    "        else:\n",
    "            print('no missing requests\\n')"
   ]
  }
 ],
 "metadata": {
  "kernelspec": {
   "display_name": "Python 3 (ipykernel)",
   "language": "python",
   "name": "python3"
  },
  "language_info": {
   "codemirror_mode": {
    "name": "ipython",
    "version": 3
   },
   "file_extension": ".py",
   "mimetype": "text/x-python",
   "name": "python",
   "nbconvert_exporter": "python",
   "pygments_lexer": "ipython3",
   "version": "3.9.5"
  }
 },
 "nbformat": 4,
 "nbformat_minor": 5
}
