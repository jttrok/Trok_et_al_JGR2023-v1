{
 "cells": [
  {
   "cell_type": "markdown",
   "id": "ccacfd21-da81-4aee-91ce-3282984a9fa1",
   "metadata": {},
   "source": [
    "### Create daily input files (from the hourly files)"
   ]
  },
  {
   "cell_type": "code",
   "execution_count": null,
   "id": "dad9d2c2-0264-49a6-bb0d-d9ad4f92d293",
   "metadata": {},
   "outputs": [],
   "source": [
    "proj_dir=\"/path/to/main_project_folder/\" # edit this line\n",
    "\n",
    "import pandas as pd\n",
    "import numpy as np\n",
    "import xarray as xr\n",
    "import netCDF4 as nc4\n",
    "import re\n",
    "import sys\n",
    "import os\n",
    "import time\n",
    "import multiprocessing as mp\n",
    "\n",
    "years = range(1979, 2022)\n",
    "\n",
    "region_list = ['northcentral_north_america', \n",
    "               'southcentral_north_america', \n",
    "               'southeastern_north_america', \n",
    "               'southwestern_europe', \n",
    "               'western_europe', \n",
    "               'central_europe', \n",
    "               'eastern_europe', \n",
    "               'northeastern_europe', \n",
    "               'northeastern_asia', \n",
    "               'southeastern_asia', \n",
    "               'northsouthern_south_america', \n",
    "               'southsouthern_south_america', \n",
    "               'southwestern_africa', \n",
    "               'southeastern_africa', \n",
    "               'southwestern_australia', \n",
    "               'southeastern_australia', \n",
    "               'west_texas',\n",
    "               'east_texas',\n",
    "              ]"
   ]
  },
  {
   "cell_type": "code",
   "execution_count": null,
   "id": "adcbf34f-a2cb-4fd6-ab96-2dcb988906bb",
   "metadata": {},
   "outputs": [],
   "source": [
    "def parallel_by_yr_daily_max(yr):\n",
    "    path_in = proj_dir+\"/input_data_ERA5/\"+region_str+\"/hourly/\"+var_in+\"/\"\n",
    "    path_out = proj_dir+\"/input_data_ERA5/\"+region_str+\"/daily/\"+var_out+\"/\"\n",
    "    \n",
    "    f_in = '_'.join([region_str, var_in, 'hourly', str(yr)+'.nc']) \n",
    "    f_out = '_'.join([region_str, var_out, 'daily', str(yr)+'.nc']) \n",
    "\n",
    "    if os.path.exists(path_in + f_in):\n",
    "        if not os.path.exists(path_out + f_out):\n",
    "            ds = xr.open_dataset(path_in + f_in)\n",
    "\n",
    "            daily_var = ds.resample(time='24H').max(dim=\"time\", skipna=True, keep_attrs=True)\n",
    "            daily_var = daily_var.rename({var_in: var_out})\n",
    "            daily_var.to_netcdf(path_out + f_out)\n",
    "\n",
    "def parallel_by_yr_daily_mean(yr):\n",
    "    path_in = proj_dir+\"/input_data_ERA5/\"+region_str+\"/hourly/\"+var_in+\"/\"\n",
    "    path_out = proj_dir+\"/input_data_ERA5/\"+region_str+\"/daily/\"+var_in+\"/\"\n",
    "\n",
    "    f_in = '_'.join([region_str, var_in, 'hourly', str(yr)+'.nc']) \n",
    "    f_out = '_'.join([region_str, var_out, 'daily', str(yr)+'.nc']) \n",
    "\n",
    "    if os.path.exists(path_in + f_in):\n",
    "        if not os.path.exists(path_out + f_out):\n",
    "            ds = xr.open_dataset(path_in + f_in)\n",
    "\n",
    "            daily_var = ds.resample(time='24H').mean(dim=\"time\", skipna=True, keep_attrs=True)\n",
    "            daily_var = daily_var.rename({var_in: var_out})\n",
    "            daily_var.to_netcdf(path_out + f_out)\n"
   ]
  },
  {
   "cell_type": "code",
   "execution_count": null,
   "id": "cb038332-a0d8-4446-ad95-fa6b5732c8b5",
   "metadata": {},
   "outputs": [],
   "source": [
    "############ calculate daily MEAN for swl1 #############\n",
    "global var_in\n",
    "var_in=\"swvl1\"\n",
    "global var_out\n",
    "var_out = \"swvl1\"\n",
    "\n",
    "for region_str_loc in region_list:\n",
    "    global region_str\n",
    "    region_str = region_str_loc\n",
    "    print(region_str)\n",
    "    with mp.Pool(40) as p:\n",
    "        p.map(parallel_by_yr_daily_mean, years)"
   ]
  },
  {
   "cell_type": "code",
   "execution_count": null,
   "id": "6255580b-f326-4fda-a3f2-20e6c6e75f60",
   "metadata": {},
   "outputs": [],
   "source": [
    "############ calculate daily MEAN for geopotential #############\n",
    "global var_in\n",
    "var_in=\"z\"\n",
    "global var_out\n",
    "var_out = \"z\"\n",
    "\n",
    "for region_str_loc in region_list:\n",
    "    global region_str\n",
    "    region_str = region_str_loc\n",
    "    print(region_str)\n",
    "    with mp.Pool(40) as p:\n",
    "        p.map(parallel_by_yr_daily_mean, years)"
   ]
  },
  {
   "cell_type": "code",
   "execution_count": null,
   "id": "c51940d1-0b13-4d9c-bb66-d9d4e827f278",
   "metadata": {},
   "outputs": [],
   "source": [
    "############ calculate daily MAX for t2m #############\n",
    "global var_in\n",
    "var_in=\"t2m\"\n",
    "global var_out\n",
    "var_out = \"tmax\"\n",
    "\n",
    "for region_str_loc in region_list:\n",
    "    global region_str\n",
    "    region_str = region_str_loc\n",
    "    print(region_str)\n",
    "    with mp.Pool(40) as p:\n",
    "        p.map(parallel_by_yr_daily_max, years)"
   ]
  }
 ],
 "metadata": {
  "kernelspec": {
   "display_name": "Python 3 (ipykernel)",
   "language": "python",
   "name": "python3"
  },
  "language_info": {
   "codemirror_mode": {
    "name": "ipython",
    "version": 3
   },
   "file_extension": ".py",
   "mimetype": "text/x-python",
   "name": "python",
   "nbconvert_exporter": "python",
   "pygments_lexer": "ipython3",
   "version": "3.9.5"
  }
 },
 "nbformat": 4,
 "nbformat_minor": 5
}
