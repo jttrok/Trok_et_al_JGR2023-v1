{
 "cells": [
  {
   "cell_type": "markdown",
   "id": "fc6e371a-f56a-4792-ba6d-c9ae7d15ab4f",
   "metadata": {},
   "source": [
    "### Check for missing files in the input_data_ERA5 directories"
   ]
  },
  {
   "cell_type": "code",
   "execution_count": null,
   "id": "5ae6c457-d707-42c8-b1e4-deb03f482a4b",
   "metadata": {},
   "outputs": [],
   "source": [
    "proj_dir=\"/path/to/main_project_folder/\" # edit this line\n",
    "\n",
    "import os\n",
    "import itertools\n",
    "import json\n",
    "import multiprocessing as mp\n",
    "import sys\n",
    "sys.path.append(proj_dir)\n",
    "\n",
    "region_list = ['northcentral_north_america', \n",
    "               'southcentral_north_america', \n",
    "               'southeastern_north_america', \n",
    "               'southwestern_europe', \n",
    "               'western_europe', \n",
    "               'central_europe', \n",
    "               'eastern_europe', \n",
    "               'northeastern_europe', \n",
    "               'northeastern_asia', \n",
    "               'southeastern_asia', \n",
    "               'northsouthern_south_america', \n",
    "               'southsouthern_south_america', \n",
    "               'southwestern_africa', \n",
    "               'southeastern_africa', \n",
    "               'southwestern_australia', \n",
    "               'southeastern_australia', \n",
    "               'west_texas',\n",
    "               'east_texas',\n",
    "              ]\n",
    "variables = [\"volumetric_soil_water_layer_1\", \"2m_temperature\", \"geopotential\"]\n",
    "var_abbrev = [\"swvl1\", \"t2m\", \"z\"]"
   ]
  },
  {
   "cell_type": "code",
   "execution_count": null,
   "id": "f73ce0b3-fb86-4d45-af1d-3066a14f8c23",
   "metadata": {
    "scrolled": true,
    "tags": []
   },
   "outputs": [],
   "source": [
    "## loop through all regions ##        \n",
    "for region_str in region_list:\n",
    "    print('\\n'+region_str)\n",
    "    ## loop through all json dictionaries ##\n",
    "    for i,curr_var in enumerate(variables):\n",
    "        curr_var_abbrev = var_abbrev[i]\n",
    "        print('\\n'+curr_var, curr_var_abbrev)\n",
    "        for timescale in ['hourly', 'daily']:\n",
    "            print(timescale)\n",
    "            if (timescale=='daily') & (curr_var_abbrev=='t2m'):\n",
    "                curr_var_abbrev = 'tmax'\n",
    "            for yr in range(1979,2022):\n",
    "                dir_name = proj_dir+\"input_data_ERA5/\"+region_str+\"/\"+timescale+\"/\"+curr_var_abbrev+\"/\"\n",
    "                f_name = '_'.join([region_str, curr_var_abbrev, timescale, str(yr)+'.nc'])\n",
    "                if not os.path.exists(dir_name+f_name):\n",
    "                    print(dir_name+f_name+' does NOT exist')"
   ]
  }
 ],
 "metadata": {
  "kernelspec": {
   "display_name": "Python 3 (ipykernel)",
   "language": "python",
   "name": "python3"
  },
  "language_info": {
   "codemirror_mode": {
    "name": "ipython",
    "version": 3
   },
   "file_extension": ".py",
   "mimetype": "text/x-python",
   "name": "python",
   "nbconvert_exporter": "python",
   "pygments_lexer": "ipython3",
   "version": "3.9.5"
  }
 },
 "nbformat": 4,
 "nbformat_minor": 5
}
